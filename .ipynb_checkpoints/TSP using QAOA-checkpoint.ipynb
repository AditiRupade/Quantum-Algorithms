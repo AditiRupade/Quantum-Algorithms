{
 "cells": [
  {
   "cell_type": "markdown",
   "id": "90dc5404",
   "metadata": {},
   "source": [
    "## Traveling Salesman Problem Optimization using QAOA in Qiskit\n",
    "\n",
    "*Travelling Salesman Problem (TSP)* is a known NP-complete problem especially to computer scientists and mathematicians. The problem states that *\"There is a salesman who is travelling from one city to another to sell something. The goal is to find the shortest path between the cities so that the salesman will be able travel all the cities and return back in as much least time as possible\".* <br/>\n",
    "Given the statement above, this project will aim to reduce the travel time of the salesman using an *Quantum Approximate Optimization Algorithm (QAOA).*\n",
    "\n",
    "I will also sample the problem using (classical) numpu eigen solver and VQE to check the outcome and error delta."
   ]
  },
  {
   "cell_type": "code",
   "execution_count": 59,
   "id": "98fa73fd",
   "metadata": {},
   "outputs": [],
   "source": [
    "import numpy as np\n",
    "import networkx as nx\n",
    "import matplotlib.pyplot as plt\n",
    "import matplotlib.axes as axes\n",
    "\n",
    "import qiskit\n",
    "from qiskit_optimization.applications import Tsp\n",
    "from qiskit_optimization.converters import QuadraticProgramToQubo\n",
    "from qiskit.algorithms import NumPyMinimumEigensolver\n",
    "from qiskit_optimization.algorithms import MinimumEigenOptimizer\n",
    "\n",
    "from qiskit import Aer\n",
    "from qiskit.utils import algorithm_globals, QuantumInstance\n",
    "from collections import OrderedDict\n",
    "from qiskit.utils import algorithm_globals\n",
    "from qiskit.algorithms import QAOA\n",
    "from qiskit.opflow import StateFn\n",
    "from qiskit.algorithms.optimizers import COBYLA\n",
    "from qiskit.circuit.library import TwoLocal\n",
    "from qiskit.quantum_info import Pauli\n",
    "from qiskit.opflow import PauliSumOp"
   ]
  },
  {
   "cell_type": "markdown",
   "id": "16c088f3",
   "metadata": {},
   "source": [
    "### 1. Create a Graph for TSP\n",
    "\n",
    "Initially, define the number of nodes in a graph (total cities) and the number of qubits required. \n",
    "We use $n^2$ qubits for n-node graph as the shortest path calculation or Hamilton cycle calculation requires $n^2$ variables."
   ]
  },
  {
   "cell_type": "code",
   "execution_count": 87,
   "id": "3dbd5dda",
   "metadata": {},
   "outputs": [],
   "source": [
    "#number of nodes in graph\n",
    "n=3\n",
    "#number of qubits\n",
    "n_qubits = n**2"
   ]
  },
  {
   "cell_type": "code",
   "execution_count": 88,
   "id": "8d106d0d",
   "metadata": {},
   "outputs": [
    {
     "name": "stdout",
     "output_type": "stream",
     "text": [
      "distance\n",
      " [[ 0. 48. 91.]\n",
      " [48.  0. 63.]\n",
      " [91. 63.  0.]]\n"
     ]
    }
   ],
   "source": [
    "#Building graph\n",
    "tsp = Tsp.create_random_instance(n, seed=123)\n",
    "graph_matrix = nx.to_numpy_matrix(tsp.graph)\n",
    "print(\"distance\\n\", graph_matrix)"
   ]
  },
  {
   "cell_type": "code",
   "execution_count": 89,
   "id": "11e36155",
   "metadata": {},
   "outputs": [
    {
     "data": {
      "text/plain": [
       "{(0, 1): Text(45.135586801037746, 11.90964147504462, '48.0'),\n",
       " (0, 2): Text(42.91288821665869, 43.295776272899815, '91.0'),\n",
       " (1, 2): Text(19.81328869288209, 49.823315867722165, '63.0')}"
      ]
     },
     "execution_count": 89,
     "metadata": {},
     "output_type": "execute_result"
    },
    {
     "data": {
      "image/png": "[encoded data removed]",
      "text/plain": [
       "<Figure size 432x288 with 1 Axes>"
      ]
     },
     "metadata": {},
     "output_type": "display_data"
    }
   ],
   "source": [
    "#plot graph on axes\n",
    "\n",
    "colors = [\"r\" for node in tsp.graph.nodes]\n",
    "pos = [tsp.graph.nodes[node][\"pos\"] for node in tsp.graph.nodes]\n",
    "\n",
    "start = plt.axes(frameon=True)\n",
    "nx.draw_networkx(tsp.graph, node_color=colors, node_size=600, alpha=0.8, ax=start, pos=pos)\n",
    "edges = nx.get_edge_attributes(tsp.graph, \"weight\")\n",
    "nx.draw_networkx_edge_labels(tsp.graph, pos=pos, edge_labels=edges)"
   ]
  },
  {
   "cell_type": "markdown",
   "id": "1dd28ee5",
   "metadata": {},
   "source": [
    "### 2. Calculate Hamiltonians\n",
    "A Hamilton cycle is a closed path that uses every vertex of a graph once. The goal is to find the shortest Hamilton cycle in the Graph. Below, we are first mapping the graph to ising problem and then calculating ising hamiltonians with respect to offset."
   ]
  },
  {
   "cell_type": "code",
   "execution_count": 90,
   "id": "3f09cf20",
   "metadata": {},
   "outputs": [
    {
     "name": "stdout",
     "output_type": "stream",
     "text": [
      "\\ This file has been generated by DOcplex\n",
      "\\ ENCODING=ISO-8859-1\n",
      "\\Problem name: TSP\n",
      "\n",
      "Minimize\n",
      " obj: [ 96 x_0_0*x_1_1 + 96 x_0_0*x_1_2 + 182 x_0_0*x_2_1 + 182 x_0_0*x_2_2\n",
      "      + 96 x_0_1*x_1_0 + 96 x_0_1*x_1_2 + 182 x_0_1*x_2_0 + 182 x_0_1*x_2_2\n",
      "      + 96 x_0_2*x_1_0 + 96 x_0_2*x_1_1 + 182 x_0_2*x_2_0 + 182 x_0_2*x_2_1\n",
      "      + 126 x_1_0*x_2_1 + 126 x_1_0*x_2_2 + 126 x_1_1*x_2_0 + 126 x_1_1*x_2_2\n",
      "      + 126 x_1_2*x_2_0 + 126 x_1_2*x_2_1 ]/2\n",
      "Subject To\n",
      " c0: x_0_0 + x_0_1 + x_0_2 = 1\n",
      " c1: x_1_0 + x_1_1 + x_1_2 = 1\n",
      " c2: x_2_0 + x_2_1 + x_2_2 = 1\n",
      " c3: x_0_0 + x_1_0 + x_2_0 = 1\n",
      " c4: x_0_1 + x_1_1 + x_2_1 = 1\n",
      " c5: x_0_2 + x_1_2 + x_2_2 = 1\n",
      "\n",
      "Bounds\n",
      " 0 <= x_0_0 <= 1\n",
      " 0 <= x_0_1 <= 1\n",
      " 0 <= x_0_2 <= 1\n",
      " 0 <= x_1_0 <= 1\n",
      " 0 <= x_1_1 <= 1\n",
      " 0 <= x_1_2 <= 1\n",
      " 0 <= x_2_0 <= 1\n",
      " 0 <= x_2_1 <= 1\n",
      " 0 <= x_2_2 <= 1\n",
      "\n",
      "Binaries\n",
      " x_0_0 x_0_1 x_0_2 x_1_0 x_1_1 x_1_2 x_2_0 x_2_1 x_2_2\n",
      "End\n",
      "\n"
     ]
    }
   ],
   "source": [
    "#convert graph to quadratic program\n",
    "qp = tsp.to_quadratic_program()\n",
    "print(qp.export_as_lp_string())"
   ]
  },
  {
   "cell_type": "code",
   "execution_count": 91,
   "id": "82b05009",
   "metadata": {},
   "outputs": [
    {
     "name": "stdout",
     "output_type": "stream",
     "text": [
      "Offset: 7581.0\n",
      "Ising Hamiltonian:\n",
      "-1290.0 * ZIIIIIIII\n",
      "- 1290.0 * IZIIIIIII\n",
      "+ 606.5 * ZZIIIIIII\n",
      "- 1290.0 * IIZIIIIII\n",
      "+ 606.5 * ZIZIIIIII\n",
      "+ 606.5 * IZZIIIIII\n",
      "- 1268.5 * IIIZIIIII\n",
      "+ 606.5 * ZIIZIIIII\n",
      "+ 15.75 * IZIZIIIII\n",
      "+ 15.75 * IIZZIIIII\n",
      "- 1268.5 * IIIIZIIII\n",
      "+ 15.75 * ZIIIZIIII\n",
      "+ 606.5 * IZIIZIIII\n",
      "+ 15.75 * IIZIZIIII\n",
      "+ 606.5 * IIIZZIIII\n",
      "- 1268.5 * IIIIIZIII\n",
      "+ 15.75 * ZIIIIZIII\n",
      "+ 15.75 * IZIIIZIII\n",
      "+ 606.5 * IIZIIZIII\n",
      "+ 606.5 * IIIZIZIII\n",
      "+ 606.5 * IIIIZZIII\n",
      "- 1282.5 * IIIIIIZII\n",
      "+ 606.5 * ZIIIIIZII\n",
      "+ 22.75 * IZIIIIZII\n",
      "+ 22.75 * IIZIIIZII\n",
      "+ 606.5 * IIIZIIZII\n",
      "+ 12.0 * IIIIZIZII\n",
      "+ 12.0 * IIIIIZZII\n",
      "- 1282.5 * IIIIIIIZI\n",
      "+ 22.75 * ZIIIIIIZI\n",
      "+ 606.5 * IZIIIIIZI\n",
      "+ 22.75 * IIZIIIIZI\n",
      "+ 12.0 * IIIZIIIZI\n",
      "+ 606.5 * IIIIZIIZI\n",
      "+ 12.0 * IIIIIZIZI\n",
      "+ 606.5 * IIIIIIZZI\n",
      "- 1282.5 * IIIIIIIIZ\n",
      "+ 22.75 * ZIIIIIIIZ\n",
      "+ 22.75 * IZIIIIIIZ\n",
      "+ 606.5 * IIZIIIIIZ\n",
      "+ 12.0 * IIIZIIIIZ\n",
      "+ 12.0 * IIIIZIIIZ\n",
      "+ 606.5 * IIIIIZIIZ\n",
      "+ 606.5 * IIIIIIZIZ\n",
      "+ 606.5 * IIIIIIIZZ\n"
     ]
    }
   ],
   "source": [
    "#print hamiltonian isings\n",
    "qp2qubo = QuadraticProgramToQubo()\n",
    "qubo = qp2qubo.convert(qp)\n",
    "qubitOp, offset = qubo.to_ising()\n",
    "print(\"Offset:\", offset)\n",
    "print(\"Ising Hamiltonian:\")\n",
    "print(str(qubitOp))"
   ]
  },
  {
   "cell_type": "markdown",
   "id": "5d0820e1",
   "metadata": {},
   "source": [
    "### 3. Classical Approach\n",
    "\n",
    "Following I have added a solution to the TSP using Numpy Eigen Solver based on the hamiltons generated."
   ]
  },
  {
   "cell_type": "code",
   "execution_count": 150,
   "id": "cd185480",
   "metadata": {},
   "outputs": [
    {
     "name": "stdout",
     "output_type": "stream",
     "text": [
      "energy: -7379.0\n",
      "tsp objective: 202.0\n",
      "Objective value computed by NumPyMinimumEigensolver is 18\n",
      "feasible: True\n"
     ]
    }
   ],
   "source": [
    "#optimizing Hamiltonian and finding the lowest eigenvalue and eigenvector using NumpyEigenSolver\n",
    "solver = NumPyMinimumEigensolver()\n",
    "np_result = solver.compute_minimum_eigenvalue(qubitOp)\n",
    "\n",
    "print(\"energy:\", np_result.eigenvalue.real)\n",
    "print(\"tsp objective:\", np_result.eigenvalue.real + offset)\n",
    "np_sample = tsp.sample_most_likely(np_result.eigenstate)\n",
    "print(f'Objective value computed by NumPyMinimumEigensolver is {objective_value(np_sample,tsp.graph)}')\n",
    "print(\"feasible:\", qubo.is_feasible(np_sample))"
   ]
  },
  {
   "cell_type": "markdown",
   "id": "c6c860cd",
   "metadata": {},
   "source": [
    "### 4. Optimization using VQE\n",
    "Based on the namiltions, following is the optimization to the TSP using VQE solver."
   ]
  },
  {
   "cell_type": "code",
   "execution_count": 151,
   "id": "b3ec1108",
   "metadata": {},
   "outputs": [
    {
     "name": "stdout",
     "output_type": "stream",
     "text": [
      "energy: -7369.227287578619\n",
      "tsp objective: 211.77271242138067\n",
      "Objective value computed by VQE is 18.0\n",
      "feasible: True\n"
     ]
    }
   ],
   "source": [
    "#optimizing Hamiltonian and finding the lowest eigenvalue and eigenvector using VQE\n",
    "ansatz = TwoLocal(qubit_op.num_qubits, 'ry', 'cz', reps=5, entanglement='linear')\n",
    "vqe = VQE(ansatz, optimizer, quantum_instance=Aer.get_backend('statevector_simulator'))\n",
    "\n",
    "vqe_result = vqe.compute_minimum_eigenvalue(qubitOp)\n",
    "\n",
    "print(\"energy:\", vqe_result.eigenvalue.real)\n",
    "print(\"tsp objective:\", vqe_result.eigenvalue.real + offset)\n",
    "vqe_sample = tsp.sample_most_likely(vqe_result.eigenstate)\n",
    "print(f'Objective value computed by VQE is {objective_value(vqe_sample,tsp.graph)}')\n",
    "print(\"feasible:\", qubo.is_feasible(vqe_sample))"
   ]
  },
  {
   "cell_type": "markdown",
   "id": "192fd65c",
   "metadata": {},
   "source": [
    "### 5. Optimization using QAOA\n",
    "Using the above ising hamiltons, we will now optimize the algorithm and find the lowest eigenvalue and eigenvector. Below, I have used COBYLA optimizer in QAOA and sampled the most likely results. I have also interpreted the results and displyed the solution and objective value of results."
   ]
  },
  {
   "cell_type": "code",
   "execution_count": 143,
   "id": "310c77fe",
   "metadata": {},
   "outputs": [
    {
     "name": "stdout",
     "output_type": "stream",
     "text": [
      "energy: -2788.425087148998\n",
      "tsp objective: 4792.5749128510015\n",
      "-----------------\n",
      "Objective value computed by QAOA is 8.0\n",
      "feasible: True\n"
     ]
    }
   ],
   "source": [
    "#optimizing Hamiltonian and finding the lowest eigenvalue and eigenvector using QAOA\n",
    "optimizer = COBYLA()\n",
    "qaoa = QAOA(optimizer, quantum_instance=Aer.get_backend('statevector_simulator'), reps=1)\n",
    "qaoa_result = qaoa.compute_minimum_eigenvalue(qubitOp)\n",
    "print(\"energy:\", qaoa_result.eigenvalue.real)\n",
    "print(\"tsp objective:\", qaoa_result.eigenvalue.real + offset)\n",
    "print('-----------------')\n",
    "qaoa_sample = tsp.sample_most_likely(qaoa_result.eigenstate)\n",
    "print(f'Objective value computed by QAOA is {objective_value(qaoa_sample,tsp.graph)}')\n",
    "print(\"feasible:\", qubo.is_feasible(qaoa_sample))"
   ]
  },
  {
   "cell_type": "markdown",
   "id": "10f9a8d2",
   "metadata": {},
   "source": [
    "### Conclusion-\n",
    "\n",
    "1. In the above demonstrations, I have used a 3-node graph which requires 6-qubit circuit for optimization. More dense the graph, more optimization improvement can be observed. I have added the above value for demonstration purpose only.\n",
    "2. As the QAOA and VQE circuits take more time, I have not added more than 5 repetitions.\n",
    "3. As seen in the results, the QAOA optimization is more efficient, but it was achievable after many repetitions."
   ]
  },
  {
   "cell_type": "markdown",
   "id": "876d50a2",
   "metadata": {},
   "source": [
    "#### Author - Aditi Rupade"
   ]
  }
 ],
 "metadata": {
  "kernelspec": {
   "display_name": "Python 3 (ipykernel)",
   "language": "python",
   "name": "python3"
  },
  "language_info": {
   "codemirror_mode": {
    "name": "ipython",
    "version": 3
   },
   "file_extension": ".py",
   "mimetype": "text/x-python",
   "name": "python",
   "nbconvert_exporter": "python",
   "pygments_lexer": "ipython3",
   "version": "3.7.11"
  }
 },
 "nbformat": 4,
 "nbformat_minor": 5
}
